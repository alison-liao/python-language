{
 "cells": [
  {
   "cell_type": "markdown",
   "metadata": {},
   "source": [
    "# 练习1：多数元素"
   ]
  },
  {
   "cell_type": "markdown",
   "metadata": {},
   "source": [
    "题目描述\n",
    "\n",
    "给定一个大小为 n 的数组，找到其中的众数。众数是指在数组中出现次数大于 [n/2] 的元素。\n",
    "\n",
    "你可以假设数组是非空的，并且给定的数组总是存在众数。"
   ]
  },
  {
   "cell_type": "markdown",
   "metadata": {},
   "source": [
    "思路\n",
    "\n",
    "如果数 a 是数组 nums 的众数，如果我们将 nums 分成两部分，那么 a 必定是至少一部分的众数。\n",
    "\n",
    "我们可以使用反证法来证明这个结论。假设 a 既不是左半部分的众数，也不是右半部分的众数，那么 a 出现的次数少于 l / 2 + r / 2 次，其中 l 和 r 分别是左半部分和右半部分的长度。由于 l / 2 + r / 2 <= (l + r) / 2，说明 a 也不是数组 nums 的众数，因此出现了矛盾。所以这个结论是正确的。\n",
    "\n",
    "这样以来，我们就可以使用分治法解决这个问题：将数组分成左右两部分，分别求出左半部分的众数 a1 以及右半部分的众数 a2，随后在 a1 和 a2 中选出正确的众数。\n",
    "\n",
    "算法\n",
    "\n",
    "我们使用经典的分治算法递归求解，直到所有的子问题都是长度为 1 的数组。长度为 1 的子数组中唯一的数显然是众数，直接返回即可。如果回溯后某区间的长度大于 1，我们必须将左右子区间的值合并。如果它们的众数相同，那么显然这一段区间的众数是它们相同的值。否则，我们需要比较两个众数在整个区间内出现的次数来决定该区间的众数。"
   ]
  },
  {
   "cell_type": "code",
   "execution_count": 62,
   "metadata": {},
   "outputs": [],
   "source": [
    "class Solution:\n",
    "    def majorityElement(self, nums, lo=0, hi=None):\n",
    "        def majority_element_rec(lo, hi):\n",
    "            # base case; the only element in an array of size 1 is the majority\n",
    "            # element.\n",
    "            if lo == hi:\n",
    "                return nums[lo]\n",
    "\n",
    "            # recurse on left and right halves of this slice.\n",
    "            mid = (hi-lo)//2 + lo\n",
    "            left = majority_element_rec(lo, mid)\n",
    "            right = majority_element_rec(mid+1, hi)\n",
    "\n",
    "            # if the two halves agree on the majority element, return it.\n",
    "            if left == right:\n",
    "                return left\n",
    "\n",
    "            # otherwise, count each element and return the \"winner\".\n",
    "            left_count = sum(1 for i in range(lo, hi+1) if nums[i] == left)\n",
    "            right_count = sum(1 for i in range(lo, hi+1) if nums[i] == right)\n",
    "\n",
    "            return left if left_count > right_count else right\n",
    "\n",
    "        return majority_element_rec(0, len(nums)-1)"
   ]
  },
  {
   "cell_type": "markdown",
   "metadata": {},
   "source": [
    "# 练习2：最大子序和"
   ]
  },
  {
   "cell_type": "markdown",
   "metadata": {},
   "source": [
    "题目描述\n",
    "\n",
    "给定一个整数数组 nums ，找到一个具有最大和的连续子数组（子数组最少包含一个元素），返回其最大和。\n",
    "\n",
    "示例:\n",
    "\n",
    "输入: [-2,1,-3,4,-1,2,1,-5,4],\n",
    "\n",
    "输出: 6\n",
    "\n",
    "解释: 连续子数组 [4,-1,2,1] 的和最大为6。"
   ]
  },
  {
   "cell_type": "code",
   "execution_count": 67,
   "metadata": {},
   "outputs": [],
   "source": [
    "class Solution:\n",
    "    def maxSubArray(self, nums) -> int:\n",
    "        n = len(nums)\n",
    "        #递归终止条件\n",
    "        if n == 1:\n",
    "            return nums[0]\n",
    "        else:\n",
    "            #递归计算左半边最大子序和\n",
    "            max_left = self.maxSubArray(nums[0:len(nums) // 2])\n",
    "            #递归计算右半边最大子序和\n",
    "            max_right = self.maxSubArray(nums[len(nums) // 2:len(nums)])\n",
    "        \n",
    "        #计算中间的最大子序和，从右到左计算左边的最大子序和，从左到右计算右边的最大子序和，再相加\n",
    "        max_l = nums[len(nums) // 2 - 1]\n",
    "        tmp = 0\n",
    "        for i in range(len(nums) // 2 - 1, -1, -1):\n",
    "            tmp += nums[i]\n",
    "            max_l = max(tmp, max_l)\n",
    "        max_r = nums[len(nums) // 2]\n",
    "        tmp = 0\n",
    "        for i in range(len(nums) // 2, len(nums)):\n",
    "            tmp += nums[i]\n",
    "            max_r = max(tmp, max_r)\n",
    "        #返回三个中的最大值\n",
    "        return max(max_right,max_left,max_l+max_r)"
   ]
  },
  {
   "cell_type": "markdown",
   "metadata": {},
   "source": [
    "# 练习3：pow(x,n)"
   ]
  },
  {
   "cell_type": "markdown",
   "metadata": {},
   "source": [
    "题目描述\n",
    "\n",
    "实现 pow(x, n) ，即计算 x 的 n 次幂函数。"
   ]
  },
  {
   "cell_type": "markdown",
   "metadata": {},
   "source": [
    "示例 1:\n",
    "\n",
    "输入: 2.00000, 10\n",
    "    \n",
    "输出: 1024.00000"
   ]
  },
  {
   "cell_type": "code",
   "execution_count": 69,
   "metadata": {},
   "outputs": [],
   "source": [
    "class Solution:\n",
    "    def myPow(self, x: float, n: int) -> float:\n",
    "        def quickMul(N):\n",
    "            if N == 0:\n",
    "                return 1.0\n",
    "            y = quickMul(N // 2)\n",
    "            return y * y if N % 2 == 0 else y * y * x\n",
    "        \n",
    "        return quickMul(n) if n >= 0 else 1.0 / quickMul(-n)"
   ]
  },
  {
   "cell_type": "code",
   "execution_count": null,
   "metadata": {},
   "outputs": [],
   "source": []
  }
 ],
 "metadata": {
  "kernelspec": {
   "display_name": "Python 3",
   "language": "python",
   "name": "python3"
  },
  "language_info": {
   "codemirror_mode": {
    "name": "ipython",
    "version": 3
   },
   "file_extension": ".py",
   "mimetype": "text/x-python",
   "name": "python",
   "nbconvert_exporter": "python",
   "pygments_lexer": "ipython3",
   "version": "3.7.4"
  }
 },
 "nbformat": 4,
 "nbformat_minor": 4
}
